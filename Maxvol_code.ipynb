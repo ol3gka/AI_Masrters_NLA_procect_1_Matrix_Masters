{
  "nbformat": 4,
  "nbformat_minor": 0,
  "metadata": {
    "colab": {
      "provenance": [],
      "include_colab_link": true
    },
    "kernelspec": {
      "name": "python3",
      "display_name": "Python 3"
    },
    "language_info": {
      "name": "python"
    }
  },
  "cells": [
    {
      "cell_type": "markdown",
      "metadata": {
        "id": "view-in-github",
        "colab_type": "text"
      },
      "source": [
        "<a href=\"https://colab.research.google.com/github/ol3gka/AI_Masrters_NLA_project_1_Matrix_Masters/blob/main/Maxvol_code.ipynb\" target=\"_parent\"><img src=\"https://colab.research.google.com/assets/colab-badge.svg\" alt=\"Open In Colab\"/></a>"
      ]
    },
    {
      "cell_type": "code",
      "execution_count": 8,
      "metadata": {
        "id": "XYMwV2zhq_qF"
      },
      "outputs": [],
      "source": [
        "import numpy as np\n",
        "import itertools"
      ]
    },
    {
      "cell_type": "code",
      "source": [],
      "metadata": {
        "id": "L4uyrHposOSW"
      },
      "execution_count": null,
      "outputs": []
    },
    {
      "cell_type": "code",
      "source": [],
      "metadata": {
        "id": "53x1P19fsPI6"
      },
      "execution_count": null,
      "outputs": []
    },
    {
      "cell_type": "code",
      "source": [],
      "metadata": {
        "id": "vBFJcLs-sSZh"
      },
      "execution_count": null,
      "outputs": []
    },
    {
      "cell_type": "code",
      "source": [],
      "metadata": {
        "id": "i8ZWift-sSlQ"
      },
      "execution_count": null,
      "outputs": []
    },
    {
      "cell_type": "markdown",
      "source": [
        "Генератор случайных матриц с фиксированными сингулярными числами для тестов"
      ],
      "metadata": {
        "id": "XJR60EeJmvq2"
      }
    },
    {
      "cell_type": "code",
      "source": [
        "n, m = map(int, input('Введите размеры матрицы: ').split())\n",
        "k = int(input('Введите размер крестовой аппроксимации: '))\n",
        "\n",
        "print('Введите сингулярные числа матрицы: ')\n",
        "sigma = list(map(float, input().split()))\n",
        "sigma.sort(reverse=True)\n",
        "if n<=m:\n",
        "    S = np.hstack((np.diag(sigma), np.zeros((n,m-n))))\n",
        "else:\n",
        "    S = np.vstack((np.diag(sigma), np.zeros((n-m,m))))\n",
        "\n",
        "B = np.random.randint(100, size=(n,n))\n",
        "C = np.random.randint(100, size=(m,m))\n",
        "Q_1 = np.linalg.qr(B, mode='reduced')[0]\n",
        "Q_2 = np.linalg.qr(C, mode='reduced')[0].transpose()\n",
        "A = Q_1 @ S @ Q_2\n",
        "A"
      ],
      "metadata": {
        "id": "nOCWRNN5m4oa",
        "outputId": "0634a74d-530e-40f8-9fcb-5c1cb9823842",
        "colab": {
          "base_uri": "https://localhost:8080/"
        }
      },
      "execution_count": 6,
      "outputs": [
        {
          "name": "stdout",
          "output_type": "stream",
          "text": [
            "Введите размеры матрицы: 12 10\n",
            "Введите размер крестовой аппроксимации: 5\n",
            "Введите сингулярные числа матрицы: \n",
            "100 50 39 10 8 5 4 3 2 0.1\n"
          ]
        },
        {
          "output_type": "execute_result",
          "data": {
            "text/plain": [
              "array([[-3.1447265 ,  8.60929217, 27.41798976, 16.75414666, 10.18407588,\n",
              "         3.86628533, -4.27538542, 13.34938708, 13.57112158, -0.93508878],\n",
              "       [ 7.10488611, -5.11977784,  7.18804199,  8.4473635 , -0.44561613,\n",
              "         7.36310102, -7.53262649, 17.62493861,  0.34211527,  1.18665829],\n",
              "       [20.33717132, 15.44541859, -0.84636802, 24.66984197,  1.80517825,\n",
              "        25.66081518, 14.72883616, 11.59488197, 18.45519027, 23.9276745 ],\n",
              "       [-3.40037555, -0.29574535, 10.22757212,  7.19516639,  1.91822349,\n",
              "        -1.59725848, -4.04000612,  6.26455153,  5.16619539, -1.92431806],\n",
              "       [ 6.54361641, 14.2428674 ,  4.87763734, 18.96884854,  6.94283702,\n",
              "        11.7737554 , 17.30853819,  3.87891234, 18.97606576, 17.56715842],\n",
              "       [17.28903611, 15.68564471, -3.46859665, 23.30814823,  4.22682851,\n",
              "        28.52585022, 12.79179369, 12.98847382, 23.46432282, 23.12359213],\n",
              "       [ 7.73873354,  6.10236643,  4.91535969,  9.23284782,  2.96270072,\n",
              "         8.5252062 , 10.11217284,  7.48354899,  7.90935027, 10.67379606],\n",
              "       [ 3.77586854, -3.03104857, -4.19620504,  0.40219628, -3.61756745,\n",
              "         3.20028133,  0.14315814,  7.27762094,  1.32551591,  3.09568962],\n",
              "       [-0.8495815 , -3.48312508, 22.54143242,  8.9808355 ,  3.37385291,\n",
              "        -1.3038672 , -8.25335521,  8.80400544,  0.9055858 , -5.36560397],\n",
              "       [16.11117274,  0.61283958,  0.12434467, 11.13392714, -5.05322008,\n",
              "        16.51458601, -1.16626274, 16.17835484,  1.11128154,  8.95263535],\n",
              "       [ 8.8189326 ,  1.01134935, -6.49425326,  1.53442824, -3.3423496 ,\n",
              "         5.8002648 ,  1.38784073,  4.10781937,  3.08921402,  6.20433703],\n",
              "       [14.13075335, -5.88325845, -4.4874081 , -0.3394525 , -7.7099767 ,\n",
              "         8.40970351, -1.7557581 , 13.19581086, -3.27195368,  5.16387027]])"
            ]
          },
          "metadata": {},
          "execution_count": 6
        }
      ]
    },
    {
      "cell_type": "markdown",
      "source": [
        "# maxvol\n",
        "Автор: Середа К. Д.\n",
        "\n",
        "- добавить теоремы и советы по подбору гиперпараметров\n",
        "\n",
        "- добавить картинки к методу\n",
        "\n",
        "- дополнить maxvol до метода поиска с переменными направлениями\n"
      ],
      "metadata": {
        "id": "E0-2hD29gEpn"
      }
    },
    {
      "cell_type": "code",
      "source": [
        "def maxvol_str(A: np.ndarray, I: list) -> list:\n",
        "    '''\n",
        "    Функция находит строки доминантной матрицы в А\n",
        "\n",
        "    :param A: np.ndarray размера n x r -- исходная матрица\n",
        "    :param I: list из строк А длины r для начальной иницилизации hatA\n",
        "\n",
        "    :return I_dom: list со строками доминантой матрицы hatA_dom\n",
        "    '''\n",
        "    delta = 10**(-2)\n",
        "    hatA = A[I]\n",
        "    # Начальная инициализация матриц hatA_inv и C\n",
        "    hatA_inv = np.linalg.inv(hatA)\n",
        "    C = A @ hatA_inv\n",
        "    while np.max(abs(C))>1+delta:\n",
        "        # Поиск индексов максмального по модулю элемента C\n",
        "        i, j = np.asarray(np.isclose(C, C.flat[abs(C).argmax()])).nonzero()\n",
        "        i, j = i[0], j[0]\n",
        "        if i==j:\n",
        "            break\n",
        "        # Обновление hatA_inv и C\n",
        "        hatA_inv = hatA_inv - (np.outer(hatA_inv[:,j],  np.dot(A[i]-A[I[j]], hatA_inv))) * 1/(1+np.dot(A[i]-A[I[j]], hatA_inv[:,j]))\n",
        "        C = A @ hatA_inv\n",
        "        I[j] = i # Замена индекса\n",
        "        I_dom = list(I)\n",
        "    return I_dom"
      ],
      "metadata": {
        "id": "L8ZWolVGsTIx"
      },
      "execution_count": 4,
      "outputs": []
    },
    {
      "cell_type": "code",
      "source": [
        "def maxvol(A: np.ndarray, r: int) -> tuple:\n",
        "    '''\n",
        "    Функция находит доминантную матрицу в A\n",
        "\n",
        "    :param A: np.ndarray размера n x m -- исходная матрица\n",
        "    :param r: целое число - размер крестовой аппроксимации А\n",
        "\n",
        "    :return result: tuple (I_dom, J_dom) из двух списков индексов А, задающих доминантную матрицу\n",
        "    '''\n",
        "    # Начальная инициализация строк I и столбцов J искомой доминантной матрицы\n",
        "    I = list(range(k))\n",
        "    J = list(range(k))\n",
        "    I_dom = maxvol_str(A[:, J], I) # Поиск hatA_dom по строкам в подматрице A(:, J)\n",
        "    J_dom = maxvol_str(A[I_dom].T, J) # Поиск hatA_dom по столбцам в подматрице A(I_dom, :)\n",
        "    result = (I_dom, J_dom)\n",
        "    return result"
      ],
      "metadata": {
        "id": "WjzD8jdnkvqP"
      },
      "execution_count": 5,
      "outputs": []
    },
    {
      "cell_type": "code",
      "source": [
        "# Поиск подматрицы максимального объема в А\n",
        "det = 0\n",
        "I_best = np.arange(k)\n",
        "J_best = np.arange(k)\n",
        "for i in list(itertools.combinations(range(n), r=k)):\n",
        "    for j in list(itertools.combinations(range(m), r=k)):\n",
        "        B = A[i,:][:,j]\n",
        "        det_l = np.linalg.det(B)\n",
        "        if abs(det_l) > det:\n",
        "            det = abs(det_l)\n",
        "            I_best = i\n",
        "            J_best = j"
      ],
      "metadata": {
        "id": "Bj38AvvRn0zJ"
      },
      "execution_count": 10,
      "outputs": []
    },
    {
      "cell_type": "code",
      "source": [
        "I_res, J_res = maxvol(A, k)\n",
        "E = A - A[:,J_best] @ np.linalg.inv(A[I_best,:][:,J_best]) @ A[I_best,:]\n",
        "F = A - A[:,J_res] @ np.linalg.inv(A[I_res,:][:,J_res]) @ A[I_res,:]\n",
        "print('Отклонение по норме Чебышева для A_max:', np.max(abs(E)))\n",
        "print('Отклонение по норме Чебышева для A_dom:', np.max(abs(F)))"
      ],
      "metadata": {
        "id": "JoIeeQz7nOPc",
        "outputId": "5830fa03-e559-4017-fbed-10231c1ea384",
        "colab": {
          "base_uri": "https://localhost:8080/"
        }
      },
      "execution_count": 11,
      "outputs": [
        {
          "output_type": "stream",
          "name": "stdout",
          "text": [
            "Отклонение по норме Чебышева для A_max: 5.6042512812783745\n",
            "Отклонение по норме Чебышева для A_dom: 8.8112652547148\n"
          ]
        }
      ]
    },
    {
      "cell_type": "markdown",
      "source": [
        "# maxvol-2 (rect-maxvol)\n",
        "Автор: Николаев О.В.\n",
        "\n",
        "- добавить, что такое объем (детерминант прямоугольной матрицы)\n",
        "\n",
        "- написать докстринг\n",
        "\n",
        "\n"
      ],
      "metadata": {
        "id": "6ngdrt1JsXL6"
      }
    },
    {
      "cell_type": "markdown",
      "source": [
        "**Algorithm 1 rect_maxvol (“Greedy” maximization of the volume of submatrix)**\n"
      ],
      "metadata": {
        "id": "B4iLuVSrtdAh"
      }
    },
    {
      "cell_type": "markdown",
      "source": [
        "\n",
        "<div>\n",
        "<img src=\"https://raw.githubusercontent.com/ol3gka/AI_Masrters_NLA_project_1_Matrix_Masters/main/pictures/max_vol_1.jpg\" width=\"600\"/>\n",
        "</div>"
      ],
      "metadata": {
        "id": "WI-XKSKPOWtP"
      }
    },
    {
      "cell_type": "code",
      "source": [
        "def py_rect_maxvol(\n",
        "    A, tol=1.,\n",
        "    maxK=None,\n",
        "    min_add_K=None,\n",
        "    minK=None,\n",
        "    start_maxvol_iters=10,\n",
        "    identity_submatrix=True,\n",
        "    top_k_index=-1):\n",
        "    \"\"\"\n",
        "    Реализация алгоритма rect_maxvol:\n",
        "    нахождение прямоугольной подматрицы с максимальным объемом\n",
        "\n",
        "    Args:\n",
        "      написать\n",
        "\n",
        "    Returns:\n",
        "      написать\n",
        "    \"\"\"\n",
        "    # tol2 - квадрат параметра tol\n",
        "    tol2 = tol**2\n",
        "    # N - число строк, r - число колонок матрицы A\n",
        "    N, r = A.shape\n",
        "    # работа над параметрами\n",
        "    if N <= r:\n",
        "        return np.arange(N, dtype=np.int32), np.eye(N, dtype=A.dtype)\n",
        "    if maxK is None or maxK > N:\n",
        "        maxK = N\n",
        "    if maxK < r:\n",
        "        maxK = r\n",
        "    if minK is None or minK < r:\n",
        "        minK = r\n",
        "    if minK > N:\n",
        "        minK = N\n",
        "    if min_add_K is not None:\n",
        "        minK = max(minK, r + min_add_K)\n",
        "    if minK > maxK:\n",
        "        minK = maxK\n",
        "        #raise ValueError('minK value cannot be greater than maxK value')\n",
        "    if top_k_index == -1 or top_k_index > N:\n",
        "        top_k_index = N\n",
        "    if top_k_index < r:\n",
        "        top_k_index = r\n",
        "    # выбор изначальной подматрицы и коэффициентов согласно maxvol алгоритму\n",
        "    index = np.zeros(N, dtype=np.int32)\n",
        "    chosen = np.ones(top_k_index)\n",
        "    tmp_index, C = py_maxvol(A, 1.05, start_maxvol_iters, top_k_index)\n",
        "    index[:r] = tmp_index\n",
        "    chosen[tmp_index] = 0\n",
        "    C = np.asfortranarray(C)\n",
        "    # вычислим квадратные 2-нормы каждой строки в матрице коэффиценттов матриы C\n",
        "    row_norm_sqr = np.array([chosen[i]*np.linalg.norm(C[i], 2)**2 for\n",
        "        i in range(top_k_index)])\n",
        "    # находим максимальное число в row_norm_sqr\n",
        "    i = np.argmax(row_norm_sqr)\n",
        "    K = r\n",
        "    # выберете cgeru или zgeru для комплексных чисел и dger или sger для float\n",
        "    try:\n",
        "        ger = get_blas_funcs('geru', [C])\n",
        "    except:\n",
        "        ger = get_blas_funcs('ger', [C])\n",
        "    # изменяем (увеличваем) maxvol подматрицу с каждой итерацией\n",
        "    while (row_norm_sqr[i] > tol2 and K < maxK) or K < minK:\n",
        "        # прибавляем i к индексу и пересчитываем С и квадратные нормы для каждой\n",
        "        # строки с помощью SVM-формулы\n",
        "        index[K] = i\n",
        "        chosen[i] = 0\n",
        "        c = C[i].copy()\n",
        "        v = C.dot(c.conj())\n",
        "        l = 1.0/(1+v[i])\n",
        "        ger(-l,v,c,a=C,overwrite_a=1)\n",
        "        C = np.hstack([C, l*v.reshape(-1,1)])\n",
        "        row_norm_sqr -= (l*v[:top_k_index]*v[:top_k_index].conj()).real\n",
        "        row_norm_sqr *= chosen\n",
        "        # найти максимальное значение в row_norm_sqr\n",
        "        i = row_norm_sqr.argmax()\n",
        "        K += 1\n",
        "    # если identity_submatrix is True, установите подматрицу соответсвующую\n",
        "    # maxvol строкам, раной identity матрице\n",
        "    if identity_submatrix:\n",
        "        C[index[:K]] = np.eye(K, dtype=C.dtype)\n",
        "    return index[:K].copy(), C"
      ],
      "metadata": {
        "id": "uD3I_rHftJXm"
      },
      "execution_count": null,
      "outputs": []
    },
    {
      "cell_type": "code",
      "source": [],
      "metadata": {
        "id": "Sx0jW9_wwreJ"
      },
      "execution_count": null,
      "outputs": []
    }
  ]
}