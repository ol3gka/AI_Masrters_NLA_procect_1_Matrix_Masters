{
  "nbformat": 4,
  "nbformat_minor": 0,
  "metadata": {
    "colab": {
      "provenance": [],
      "authorship_tag": "ABX9TyMntMuAlKl+L6gAtD/liTbC",
      "include_colab_link": true
    },
    "kernelspec": {
      "name": "python3",
      "display_name": "Python 3"
    },
    "language_info": {
      "name": "python"
    }
  },
  "cells": [
    {
      "cell_type": "markdown",
      "metadata": {
        "id": "view-in-github",
        "colab_type": "text"
      },
      "source": [
        "<a href=\"https://colab.research.google.com/github/ol3gka/AI_Masters_NLA_projects_Matrix_Masters/blob/main/Project_2/project_2.ipynb\" target=\"_parent\"><img src=\"https://colab.research.google.com/assets/colab-badge.svg\" alt=\"Open In Colab\"/></a>"
      ]
    },
    {
      "cell_type": "code",
      "execution_count": null,
      "metadata": {
        "id": "0SIDYlyUz9Rv"
      },
      "outputs": [],
      "source": []
    },
    {
      "cell_type": "code",
      "source": [],
      "metadata": {
        "id": "xQAfCjeK0V8I"
      },
      "execution_count": null,
      "outputs": []
    },
    {
      "cell_type": "code",
      "source": [],
      "metadata": {
        "id": "UxuAgtN10WPm"
      },
      "execution_count": null,
      "outputs": []
    },
    {
      "cell_type": "code",
      "source": [],
      "metadata": {
        "id": "UUfM7g470WZI"
      },
      "execution_count": null,
      "outputs": []
    },
    {
      "cell_type": "code",
      "source": [],
      "metadata": {
        "id": "vsH0Smiu0WiW"
      },
      "execution_count": null,
      "outputs": []
    },
    {
      "cell_type": "code",
      "source": [],
      "metadata": {
        "id": "d9XhTDdv0X3r"
      },
      "execution_count": null,
      "outputs": []
    },
    {
      "cell_type": "markdown",
      "source": [
        "# **Тензорный поезд**\n",
        "\n",
        "Как достижения мультилинейной алгебры помогают преодолеть проклятие размерности?\n",
        "\n",
        "<div>\n",
        "<img src=\"https://raw.githubusercontent.com/ol3gka/AI_Masters_NLA_projects_Matrix_Masters/main/pictures/TT1.png\" width=\"600\"/>\n",
        "</div>\n",
        "\n",
        " Источник: iclcollective.com"
      ],
      "metadata": {
        "id": "uzgUKEZp0Yfn"
      }
    },
    {
      "cell_type": "code",
      "source": [],
      "metadata": {
        "id": "310svMVm1IGq"
      },
      "execution_count": null,
      "outputs": []
    },
    {
      "cell_type": "code",
      "source": [
        "https://habr.com/ru/companies/airi/articles/747626/\n",
        "\n",
        "https://github.com/G-Ryzhakov/Constructive-TT/blob/main/cooperative_games.ipynb"
      ],
      "metadata": {
        "id": "xRpAIwfn0fac"
      },
      "execution_count": null,
      "outputs": []
    },
    {
      "cell_type": "markdown",
      "source": [],
      "metadata": {
        "id": "xcb5jB5i0jQJ"
      }
    },
    {
      "cell_type": "code",
      "source": [],
      "metadata": {
        "id": "88Y6WKSl0k__"
      },
      "execution_count": null,
      "outputs": []
    }
  ]
}